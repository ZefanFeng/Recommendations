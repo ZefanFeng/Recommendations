{
 "cells": [
  {
   "cell_type": "markdown",
   "metadata": {},
   "source": [
    "### Set Up"
   ]
  },
  {
   "cell_type": "markdown",
   "metadata": {},
   "source": [
    "Read data from dat files. \n",
    "Use the function read_table of pandas to do that."
   ]
  },
  {
   "cell_type": "code",
   "execution_count": 301,
   "metadata": {},
   "outputs": [],
   "source": [
    "import numpy as np\n",
    "import pandas as pd\n",
    "from sklearn.preprocessing import MinMaxScaler"
   ]
  },
  {
   "cell_type": "markdown",
   "metadata": {},
   "source": [
    "#### data preprocess\n",
    "\n",
    "read data from dat files"
   ]
  },
  {
   "cell_type": "code",
   "execution_count": 348,
   "metadata": {},
   "outputs": [],
   "source": [
    "artists_pd = pd.read_table('hetrec2011-lastfm-2k/artists.dat')\n",
    "tags_pd = pd.read_table('hetrec2011-lastfm-2k/tags.dat')\n",
    "user_artists_pd = pd.read_table('hetrec2011-lastfm-2k/user_artists.dat')\n",
    "user_friends_pd = pd.read_table('hetrec2011-lastfm-2k/user_friends.dat')\n",
    "user_tag_pd = pd.read_table('hetrec2011-lastfm-2k/user_taggedartists-timestamps.dat')\n",
    "user_tag_art_pd = pd.read_table('hetrec2011-lastfm-2k/user_taggedartists.dat')"
   ]
  },
  {
   "cell_type": "markdown",
   "metadata": {},
   "source": [
    "### Artist Profile"
   ]
  },
  {
   "cell_type": "code",
   "execution_count": 99,
   "metadata": {},
   "outputs": [],
   "source": [
    "# artists' tags \n",
    "artist_tag_count = user_tag_pd.groupby(['artistID'], as_index=True).tagID.nunique()\n",
    "atc = pd.DataFrame(artist_tag_count)\n",
    "atc = atc.reset_index()\n",
    "atc.columns=['artistID', 'tagCount']"
   ]
  },
  {
   "cell_type": "code",
   "execution_count": 117,
   "metadata": {},
   "outputs": [],
   "source": [
    "# artists' tagged user count\n",
    "artist_user_count = user_tag_pd.groupby(['artistID'], as_index=True).userID.nunique()\n",
    "auc = pd.DataFrame(artist_user_count)\n",
    "auc = auc.reset_index()\n",
    "auc.columns=['artistID', 'userCount']"
   ]
  },
  {
   "cell_type": "code",
   "execution_count": 118,
   "metadata": {},
   "outputs": [],
   "source": [
    "# artist listened weight min\n",
    "artist_weight_min = user_artists_pd.groupby(['artistID'], as_index=True).weight.min()\n",
    "awm = pd.DataFrame(artist_weight_min)\n",
    "awm = awm.reset_index()\n",
    "awm.columns=['artistID', 'weight_min']"
   ]
  },
  {
   "cell_type": "code",
   "execution_count": 119,
   "metadata": {},
   "outputs": [],
   "source": [
    "# artist listened weight max\n",
    "artist_weight_max = user_artists_pd.groupby(['artistID'], as_index=True).weight.max()\n",
    "awmax = pd.DataFrame(artist_weight_max)\n",
    "awmax = awmax.reset_index()\n",
    "awmax.columns=['artistID', 'weight_max']"
   ]
  },
  {
   "cell_type": "code",
   "execution_count": 121,
   "metadata": {},
   "outputs": [],
   "source": [
    "# artist listened weight mean\n",
    "artist_weight_mean = user_artists_pd.groupby(['artistID'], as_index=True).weight.mean()\n",
    "awmea = pd.DataFrame(artist_weight_mean)\n",
    "awmea = awmea.reset_index()\n",
    "awmea.columns=['artistID', 'weight_mea']"
   ]
  },
  {
   "cell_type": "code",
   "execution_count": 122,
   "metadata": {},
   "outputs": [],
   "source": [
    "# artist listened weight median\n",
    "artist_weight_med = user_artists_pd.groupby(['artistID'], as_index=True).weight.median()\n",
    "awmed = pd.DataFrame(artist_weight_med)\n",
    "awmed = awmed.reset_index()\n",
    "awmed.columns=['artistID', 'weight_med']"
   ]
  },
  {
   "cell_type": "code",
   "execution_count": 123,
   "metadata": {},
   "outputs": [],
   "source": [
    "# artist listened weight sum\n",
    "artist_weight_tot = user_artists_pd.groupby(['artistID'], as_index=True).weight.sum()\n",
    "awtot = pd.DataFrame(artist_weight_tot)\n",
    "awtot = awtot.reset_index()\n",
    "awtot.columns=['artistID', 'weight_tot']"
   ]
  },
  {
   "cell_type": "code",
   "execution_count": 309,
   "metadata": {},
   "outputs": [],
   "source": [
    "# join all the dataframes above together, to build artist features\n",
    "mg = pd.merge(artists_pd, atc, how='left', on=None, left_on='id', right_on='artistID')"
   ]
  },
  {
   "cell_type": "code",
   "execution_count": 310,
   "metadata": {},
   "outputs": [],
   "source": [
    "mg = pd.merge(mg, auc, how='left', on='artistID')"
   ]
  },
  {
   "cell_type": "code",
   "execution_count": 311,
   "metadata": {},
   "outputs": [],
   "source": [
    "mg = pd.merge(mg, awm, how='left', on='artistID')\n",
    "mg = pd.merge(mg, awmax, how='left', on='artistID')\n",
    "mg = pd.merge(mg, awmea, how='left', on='artistID')\n",
    "mg = pd.merge(mg, awmed, how='left', on='artistID')\n",
    "mg = pd.merge(mg, awtot, how='left', on='artistID')"
   ]
  },
  {
   "cell_type": "code",
   "execution_count": 312,
   "metadata": {},
   "outputs": [],
   "source": [
    "# drop duplicate columns\n",
    "artist_profile = mg.drop(['url', 'name', 'pictureURL', 'artistID'], axis=1)"
   ]
  },
  {
   "cell_type": "code",
   "execution_count": 313,
   "metadata": {},
   "outputs": [],
   "source": [
    "artist_profile = artist_profile.fillna(0)"
   ]
  },
  {
   "cell_type": "code",
   "execution_count": 154,
   "metadata": {},
   "outputs": [
    {
     "data": {
      "text/plain": [
       "Index(['id', 'tagCount', 'userCount', 'weight_min', 'weight_max', 'weight_mea',\n",
       "       'weight_med', 'weight_tot'],\n",
       "      dtype='object')"
      ]
     },
     "execution_count": 154,
     "metadata": {},
     "output_type": "execute_result"
    }
   ],
   "source": [
    "artist_profile.columns"
   ]
  },
  {
   "cell_type": "code",
   "execution_count": 156,
   "metadata": {},
   "outputs": [],
   "source": [
    "artist_features = ['tagCount', 'userCount', 'weight_min', 'weight_max', 'weight_mea',\n",
    "       'weight_med', 'weight_tot']\n",
    "\n",
    "art_features = artist_profile[artist_features]"
   ]
  },
  {
   "cell_type": "code",
   "execution_count": 314,
   "metadata": {},
   "outputs": [],
   "source": [
    "# normalize the data\n",
    "min_max_scaler = MinMaxScaler()\n",
    "\n",
    "artist_profile[artist_features] = min_max_scaler.fit_transform(artist_profile[artist_features])"
   ]
  },
  {
   "cell_type": "code",
   "execution_count": 342,
   "metadata": {},
   "outputs": [],
   "source": [
    "artist_features = ['id', 'aTagCount', 'userCount', 'aWeight_min', 'aWeight_max', 'aWeight_mea',\n",
    "       'aWeight_med', 'aWeight_tot']"
   ]
  },
  {
   "cell_type": "code",
   "execution_count": 344,
   "metadata": {},
   "outputs": [],
   "source": [
    "artist_profile.columns = artist_features"
   ]
  },
  {
   "cell_type": "markdown",
   "metadata": {},
   "source": [
    "### User profile"
   ]
  },
  {
   "cell_type": "code",
   "execution_count": 174,
   "metadata": {},
   "outputs": [],
   "source": [
    "# the amount of artists user tagged\n",
    "user_tag_art = user_tag_pd.groupby(['userID'], as_index=True).artistID.nunique()\n",
    "uta = pd.DataFrame(user_tag_art)\n",
    "uta = uta.reset_index()\n",
    "uta.columns=['uid', 'tagedArtCount']"
   ]
  },
  {
   "cell_type": "code",
   "execution_count": 175,
   "metadata": {},
   "outputs": [],
   "source": [
    "# the amount of tags user tagged\n",
    "user_tags = user_tag_pd.groupby(['userID'], as_index=True).tagID.nunique()\n",
    "ut = pd.DataFrame(user_tags)\n",
    "ut = ut.reset_index()\n",
    "ut.columns=['uid', 'tagCount']"
   ]
  },
  {
   "cell_type": "code",
   "execution_count": 176,
   "metadata": {},
   "outputs": [],
   "source": [
    "# user listend artists' weight min\n",
    "user_weight_min = user_artists_pd.groupby(['userID'], as_index=True).weight.min()\n",
    "uwm = pd.DataFrame(user_weight_min)\n",
    "uwm = uwm.reset_index()\n",
    "uwm.columns = ['uid', 'weight_min']"
   ]
  },
  {
   "cell_type": "code",
   "execution_count": 177,
   "metadata": {},
   "outputs": [],
   "source": [
    "# user listend artists' weight max\n",
    "user_weight_max = user_artists_pd.groupby(['userID'], as_index=True).weight.max()\n",
    "uwx = pd.DataFrame(user_weight_max)\n",
    "uwx = uwx.reset_index()\n",
    "uwx.columns = ['uid', 'weight_max']"
   ]
  },
  {
   "cell_type": "code",
   "execution_count": 178,
   "metadata": {},
   "outputs": [],
   "source": [
    "# user listend artists' weight mean\n",
    "user_weight_mean = user_artists_pd.groupby(['userID'], as_index=True).weight.mean()\n",
    "uwn = pd.DataFrame(user_weight_mean)\n",
    "uwn = uwn.reset_index()\n",
    "uwn.columns = ['uid', 'weight_mean']"
   ]
  },
  {
   "cell_type": "code",
   "execution_count": 179,
   "metadata": {},
   "outputs": [],
   "source": [
    "# user listend artists' weight median\n",
    "user_weight_med = user_artists_pd.groupby(['userID'], as_index=True).weight.median()\n",
    "uwd = pd.DataFrame(user_weight_med)\n",
    "uwd = uwd.reset_index()\n",
    "uwd.columns = ['uid', 'weight_med']"
   ]
  },
  {
   "cell_type": "code",
   "execution_count": 288,
   "metadata": {},
   "outputs": [],
   "source": [
    "# user listend artists' weight sum\n",
    "user_weight_tot = user_artists_pd.groupby(['userID'], as_index=True).weight.sum()\n",
    "uwt = pd.DataFrame(user_weight_tot)\n",
    "uwt = uwt.reset_index()\n",
    "uwt.columns = ['uid', 'weight_tot']"
   ]
  },
  {
   "cell_type": "code",
   "execution_count": 181,
   "metadata": {},
   "outputs": [],
   "source": [
    "# users' friends amount\n",
    "user_friend_cnt = user_friends_pd.groupby(['userID'], as_index=True).friendID.nunique()\n",
    "ufc = pd.DataFrame(user_friend_cnt)\n",
    "ufc = ufc.reset_index()\n",
    "ufc.columns = ['uid', 'friend_cnt']"
   ]
  },
  {
   "cell_type": "code",
   "execution_count": 304,
   "metadata": {},
   "outputs": [],
   "source": [
    "# join dataframes above together to build user feature\n",
    "ug = pd.merge(uta, ut, how='left', on='uid')\n",
    "ug = pd.merge(ug, uwm, how='left', on='uid')\n",
    "ug = pd.merge(ug, uwx, how='left', on='uid')\n",
    "ug = pd.merge(ug, uwn, how='left', on='uid')\n",
    "ug = pd.merge(ug, uwd, how='left', on='uid')\n",
    "ug = pd.merge(ug, uwt, how='left', on='uid')\n",
    "ug = pd.merge(ug, ufc, how='left', on='uid')"
   ]
  },
  {
   "cell_type": "code",
   "execution_count": 292,
   "metadata": {},
   "outputs": [],
   "source": [
    "user_features = ['tagedArtCount', 'tagCount', 'weight_min', 'weight_max',\n",
    "       'weight_mean', 'weight_med', 'weight_tot', 'friend_cnt']"
   ]
  },
  {
   "cell_type": "code",
   "execution_count": 298,
   "metadata": {},
   "outputs": [],
   "source": [
    "# normalize\n",
    "min_max_scaler = MinMaxScaler()\n",
    "ug[user_features] = min_max_scaler.fit_transform(ug[user_features])"
   ]
  },
  {
   "cell_type": "code",
   "execution_count": 316,
   "metadata": {},
   "outputs": [],
   "source": [
    "ug.head()\n",
    "user_profile = ug"
   ]
  },
  {
   "cell_type": "code",
   "execution_count": 317,
   "metadata": {},
   "outputs": [
    {
     "data": {
      "text/html": [
       "<div>\n",
       "<style scoped>\n",
       "    .dataframe tbody tr th:only-of-type {\n",
       "        vertical-align: middle;\n",
       "    }\n",
       "\n",
       "    .dataframe tbody tr th {\n",
       "        vertical-align: top;\n",
       "    }\n",
       "\n",
       "    .dataframe thead th {\n",
       "        text-align: right;\n",
       "    }\n",
       "</style>\n",
       "<table border=\"1\" class=\"dataframe\">\n",
       "  <thead>\n",
       "    <tr style=\"text-align: right;\">\n",
       "      <th></th>\n",
       "      <th>uid</th>\n",
       "      <th>tagedArtCount</th>\n",
       "      <th>tagCount</th>\n",
       "      <th>weight_min</th>\n",
       "      <th>weight_max</th>\n",
       "      <th>weight_mean</th>\n",
       "      <th>weight_med</th>\n",
       "      <th>weight_tot</th>\n",
       "      <th>friend_cnt</th>\n",
       "    </tr>\n",
       "  </thead>\n",
       "  <tbody>\n",
       "    <tr>\n",
       "      <td>0</td>\n",
       "      <td>2</td>\n",
       "      <td>0.007457</td>\n",
       "      <td>0.510204</td>\n",
       "      <td>0.038279</td>\n",
       "      <td>0.039360</td>\n",
       "      <td>0.098282</td>\n",
       "      <td>0.069581</td>\n",
       "      <td>0.351503</td>\n",
       "      <td>0.101695</td>\n",
       "    </tr>\n",
       "    <tr>\n",
       "      <td>1</td>\n",
       "      <td>3</td>\n",
       "      <td>0.006628</td>\n",
       "      <td>0.551020</td>\n",
       "      <td>0.001864</td>\n",
       "      <td>0.037355</td>\n",
       "      <td>0.011915</td>\n",
       "      <td>0.002768</td>\n",
       "      <td>0.042701</td>\n",
       "      <td>0.050847</td>\n",
       "    </tr>\n",
       "    <tr>\n",
       "      <td>2</td>\n",
       "      <td>4</td>\n",
       "      <td>0.046396</td>\n",
       "      <td>0.612245</td>\n",
       "      <td>0.005593</td>\n",
       "      <td>0.014125</td>\n",
       "      <td>0.015661</td>\n",
       "      <td>0.010531</td>\n",
       "      <td>0.056094</td>\n",
       "      <td>0.076271</td>\n",
       "    </tr>\n",
       "    <tr>\n",
       "      <td>3</td>\n",
       "      <td>5</td>\n",
       "      <td>0.027341</td>\n",
       "      <td>0.102041</td>\n",
       "      <td>0.003321</td>\n",
       "      <td>0.002504</td>\n",
       "      <td>0.007638</td>\n",
       "      <td>0.005841</td>\n",
       "      <td>0.027406</td>\n",
       "      <td>0.050847</td>\n",
       "    </tr>\n",
       "    <tr>\n",
       "      <td>4</td>\n",
       "      <td>6</td>\n",
       "      <td>0.002486</td>\n",
       "      <td>0.265306</td>\n",
       "      <td>0.000350</td>\n",
       "      <td>0.000113</td>\n",
       "      <td>0.000560</td>\n",
       "      <td>0.000466</td>\n",
       "      <td>0.002100</td>\n",
       "      <td>0.033898</td>\n",
       "    </tr>\n",
       "  </tbody>\n",
       "</table>\n",
       "</div>"
      ],
      "text/plain": [
       "   uid  tagedArtCount  tagCount  weight_min  weight_max  weight_mean  \\\n",
       "0    2       0.007457  0.510204    0.038279    0.039360     0.098282   \n",
       "1    3       0.006628  0.551020    0.001864    0.037355     0.011915   \n",
       "2    4       0.046396  0.612245    0.005593    0.014125     0.015661   \n",
       "3    5       0.027341  0.102041    0.003321    0.002504     0.007638   \n",
       "4    6       0.002486  0.265306    0.000350    0.000113     0.000560   \n",
       "\n",
       "   weight_med  weight_tot  friend_cnt  \n",
       "0    0.069581    0.351503    0.101695  \n",
       "1    0.002768    0.042701    0.050847  \n",
       "2    0.010531    0.056094    0.076271  \n",
       "3    0.005841    0.027406    0.050847  \n",
       "4    0.000466    0.002100    0.033898  "
      ]
     },
     "execution_count": 317,
     "metadata": {},
     "output_type": "execute_result"
    }
   ],
   "source": [
    "user_profile.head()"
   ]
  },
  {
   "cell_type": "markdown",
   "metadata": {},
   "source": [
    "### Friend Features"
   ]
  },
  {
   "cell_type": "code",
   "execution_count": 206,
   "metadata": {},
   "outputs": [],
   "source": [
    "# join user friend data with user tagged artists amount\n",
    "friend_profile = pd.merge(user_friends_pd, uta, how='left', on=None, left_on='friendID', right_on='uid')"
   ]
  },
  {
   "cell_type": "code",
   "execution_count": 207,
   "metadata": {},
   "outputs": [],
   "source": [
    "# join user friend data with user tagged amount and listened weight\n",
    "friend_profile = pd.merge(friend_profile, ut, how='left', on='uid')\n",
    "friend_profile = pd.merge(friend_profile, uwt, how='left', on='uid')"
   ]
  },
  {
   "cell_type": "code",
   "execution_count": 411,
   "metadata": {},
   "outputs": [],
   "source": [
    "# average\n",
    "friend_avg = friend_profile.groupby(['userID'])['fTagArtCnt', 'fTagCnt', 'fWeightTot'].mean()\n",
    "friend_avg = friend_avg.reset_index()\n",
    "friend_avg.columns = ['userID', 'fTagArtCntAvg', 'fTagCntAvg', 'fWeightTotAvg']"
   ]
  },
  {
   "cell_type": "code",
   "execution_count": 412,
   "metadata": {},
   "outputs": [],
   "source": [
    "friend_features = ['fTagArtCntAvg', 'fTagCntAvg', 'fWeightTotAvg']"
   ]
  },
  {
   "cell_type": "code",
   "execution_count": 420,
   "metadata": {},
   "outputs": [],
   "source": [
    "# normalize\n",
    "min_max_scaler = MinMaxScaler()\n",
    "friend_avg[friend_features] = min_max_scaler.fit_transform(friend_avg[friend_features])\n",
    "friend_avg.columns = ['uid', 'fTagArtCntAvg', 'fTagCntAvg', 'fWeightTotAvg']"
   ]
  },
  {
   "cell_type": "code",
   "execution_count": 421,
   "metadata": {},
   "outputs": [
    {
     "data": {
      "text/html": [
       "<div>\n",
       "<style scoped>\n",
       "    .dataframe tbody tr th:only-of-type {\n",
       "        vertical-align: middle;\n",
       "    }\n",
       "\n",
       "    .dataframe tbody tr th {\n",
       "        vertical-align: top;\n",
       "    }\n",
       "\n",
       "    .dataframe thead th {\n",
       "        text-align: right;\n",
       "    }\n",
       "</style>\n",
       "<table border=\"1\" class=\"dataframe\">\n",
       "  <thead>\n",
       "    <tr style=\"text-align: right;\">\n",
       "      <th></th>\n",
       "      <th>uid</th>\n",
       "      <th>fTagArtCntAvg</th>\n",
       "      <th>fTagCntAvg</th>\n",
       "      <th>fWeightTotAvg</th>\n",
       "    </tr>\n",
       "  </thead>\n",
       "  <tbody>\n",
       "    <tr>\n",
       "      <td>0</td>\n",
       "      <td>2</td>\n",
       "      <td>0.133261</td>\n",
       "      <td>0.711146</td>\n",
       "      <td>0.191289</td>\n",
       "    </tr>\n",
       "    <tr>\n",
       "      <td>1</td>\n",
       "      <td>3</td>\n",
       "      <td>0.075727</td>\n",
       "      <td>0.495627</td>\n",
       "      <td>0.053532</td>\n",
       "    </tr>\n",
       "    <tr>\n",
       "      <td>2</td>\n",
       "      <td>4</td>\n",
       "      <td>0.109731</td>\n",
       "      <td>0.475510</td>\n",
       "      <td>0.123648</td>\n",
       "    </tr>\n",
       "    <tr>\n",
       "      <td>3</td>\n",
       "      <td>5</td>\n",
       "      <td>0.077556</td>\n",
       "      <td>0.495627</td>\n",
       "      <td>0.141767</td>\n",
       "    </tr>\n",
       "    <tr>\n",
       "      <td>4</td>\n",
       "      <td>6</td>\n",
       "      <td>0.116261</td>\n",
       "      <td>0.530612</td>\n",
       "      <td>0.100913</td>\n",
       "    </tr>\n",
       "  </tbody>\n",
       "</table>\n",
       "</div>"
      ],
      "text/plain": [
       "   uid  fTagArtCntAvg  fTagCntAvg  fWeightTotAvg\n",
       "0    2       0.133261    0.711146       0.191289\n",
       "1    3       0.075727    0.495627       0.053532\n",
       "2    4       0.109731    0.475510       0.123648\n",
       "3    5       0.077556    0.495627       0.141767\n",
       "4    6       0.116261    0.530612       0.100913"
      ]
     },
     "execution_count": 421,
     "metadata": {},
     "output_type": "execute_result"
    }
   ],
   "source": [
    "friend_avg.head()"
   ]
  },
  {
   "cell_type": "markdown",
   "metadata": {},
   "source": [
    "### Cross Features"
   ]
  },
  {
   "cell_type": "code",
   "execution_count": 524,
   "metadata": {},
   "outputs": [],
   "source": [
    "# calculate tagged amount of each pair of user and artist\n",
    "uat = user_tag_pd.groupby(['userID', 'artistID']).tagID.nunique()\n",
    "uat = uat.reset_index()\n",
    "uat.columns = ['uid', 'artistID', 'tagCnt']"
   ]
  },
  {
   "cell_type": "code",
   "execution_count": 525,
   "metadata": {},
   "outputs": [],
   "source": [
    "uaf = pd.merge(user_artists_pd, uat, how='left', on=None, left_on=['userID', 'artistID'], right_on=['uid', 'artistID'])"
   ]
  },
  {
   "cell_type": "code",
   "execution_count": 526,
   "metadata": {},
   "outputs": [],
   "source": [
    "uaf = uaf.drop(['uid'], axis=1)\n",
    "uaf.columns = ['uid', 'artistID', 'weight', 'tagCnt']\n",
    "uaf = uaf.fillna(0)"
   ]
  },
  {
   "cell_type": "code",
   "execution_count": 330,
   "metadata": {},
   "outputs": [],
   "source": [
    "cross_avg = uaf.groupby(['uid', 'artistID'])['weight', 'tagCnt'].mean()\n",
    "cross_avg = cross_avg.reset_index()\n",
    "cross_avg.columns = ['uid', 'artistID', 'crossWeight', 'crossTagCnt']"
   ]
  },
  {
   "cell_type": "code",
   "execution_count": 332,
   "metadata": {},
   "outputs": [],
   "source": [
    "# normalize\n",
    "cross_features = ['crossWeight', 'crossTagCnt']\n",
    "min_max_scaler = MinMaxScaler()\n",
    "cross_avg[cross_features] = min_max_scaler.fit_transform(cross_avg[cross_features])"
   ]
  },
  {
   "cell_type": "code",
   "execution_count": 333,
   "metadata": {},
   "outputs": [
    {
     "data": {
      "text/html": [
       "<div>\n",
       "<style scoped>\n",
       "    .dataframe tbody tr th:only-of-type {\n",
       "        vertical-align: middle;\n",
       "    }\n",
       "\n",
       "    .dataframe tbody tr th {\n",
       "        vertical-align: top;\n",
       "    }\n",
       "\n",
       "    .dataframe thead th {\n",
       "        text-align: right;\n",
       "    }\n",
       "</style>\n",
       "<table border=\"1\" class=\"dataframe\">\n",
       "  <thead>\n",
       "    <tr style=\"text-align: right;\">\n",
       "      <th></th>\n",
       "      <th>uid</th>\n",
       "      <th>artistID</th>\n",
       "      <th>crossWeight</th>\n",
       "      <th>crossTagCnt</th>\n",
       "    </tr>\n",
       "  </thead>\n",
       "  <tbody>\n",
       "    <tr>\n",
       "      <td>0</td>\n",
       "      <td>2</td>\n",
       "      <td>51</td>\n",
       "      <td>0.039360</td>\n",
       "      <td>0.0</td>\n",
       "    </tr>\n",
       "    <tr>\n",
       "      <td>1</td>\n",
       "      <td>2</td>\n",
       "      <td>52</td>\n",
       "      <td>0.033142</td>\n",
       "      <td>0.1</td>\n",
       "    </tr>\n",
       "    <tr>\n",
       "      <td>2</td>\n",
       "      <td>2</td>\n",
       "      <td>53</td>\n",
       "      <td>0.032181</td>\n",
       "      <td>0.0</td>\n",
       "    </tr>\n",
       "    <tr>\n",
       "      <td>3</td>\n",
       "      <td>2</td>\n",
       "      <td>54</td>\n",
       "      <td>0.029201</td>\n",
       "      <td>0.0</td>\n",
       "    </tr>\n",
       "    <tr>\n",
       "      <td>4</td>\n",
       "      <td>2</td>\n",
       "      <td>55</td>\n",
       "      <td>0.025467</td>\n",
       "      <td>0.0</td>\n",
       "    </tr>\n",
       "    <tr>\n",
       "      <td>...</td>\n",
       "      <td>...</td>\n",
       "      <td>...</td>\n",
       "      <td>...</td>\n",
       "      <td>...</td>\n",
       "    </tr>\n",
       "    <tr>\n",
       "      <td>92829</td>\n",
       "      <td>2100</td>\n",
       "      <td>18726</td>\n",
       "      <td>0.000953</td>\n",
       "      <td>0.0</td>\n",
       "    </tr>\n",
       "    <tr>\n",
       "      <td>92830</td>\n",
       "      <td>2100</td>\n",
       "      <td>18727</td>\n",
       "      <td>0.000839</td>\n",
       "      <td>0.0</td>\n",
       "    </tr>\n",
       "    <tr>\n",
       "      <td>92831</td>\n",
       "      <td>2100</td>\n",
       "      <td>18728</td>\n",
       "      <td>0.000794</td>\n",
       "      <td>0.0</td>\n",
       "    </tr>\n",
       "    <tr>\n",
       "      <td>92832</td>\n",
       "      <td>2100</td>\n",
       "      <td>18729</td>\n",
       "      <td>0.000791</td>\n",
       "      <td>0.0</td>\n",
       "    </tr>\n",
       "    <tr>\n",
       "      <td>92833</td>\n",
       "      <td>2100</td>\n",
       "      <td>18730</td>\n",
       "      <td>0.000743</td>\n",
       "      <td>0.0</td>\n",
       "    </tr>\n",
       "  </tbody>\n",
       "</table>\n",
       "<p>92834 rows × 4 columns</p>\n",
       "</div>"
      ],
      "text/plain": [
       "        uid  artistID  crossWeight  crossTagCnt\n",
       "0         2        51     0.039360          0.0\n",
       "1         2        52     0.033142          0.1\n",
       "2         2        53     0.032181          0.0\n",
       "3         2        54     0.029201          0.0\n",
       "4         2        55     0.025467          0.0\n",
       "...     ...       ...          ...          ...\n",
       "92829  2100     18726     0.000953          0.0\n",
       "92830  2100     18727     0.000839          0.0\n",
       "92831  2100     18728     0.000794          0.0\n",
       "92832  2100     18729     0.000791          0.0\n",
       "92833  2100     18730     0.000743          0.0\n",
       "\n",
       "[92834 rows x 4 columns]"
      ]
     },
     "execution_count": 333,
     "metadata": {},
     "output_type": "execute_result"
    }
   ],
   "source": [
    "cross_avg"
   ]
  },
  {
   "cell_type": "markdown",
   "metadata": {},
   "source": [
    "### Content Based model"
   ]
  },
  {
   "cell_type": "markdown",
   "metadata": {},
   "source": [
    "Use DNN model to preidct the weight.\n",
    "The bigger the weight is, the more interest of user"
   ]
  },
  {
   "cell_type": "code",
   "execution_count": 349,
   "metadata": {},
   "outputs": [],
   "source": [
    "user_artists_pd\n",
    "\n",
    "min_max_scaler = MinMaxScaler()\n",
    "\n",
    "user_artists_pd[['weight']] = min_max_scaler.fit_transform(user_artists_pd[['weight']])"
   ]
  },
  {
   "cell_type": "code",
   "execution_count": 430,
   "metadata": {},
   "outputs": [],
   "source": [
    "# join all the features generated above\n",
    "df = pd.merge(user_artists_pd, cross_avg, how='left', on=None, left_on=['userID', 'artistID'], right_on=['uid', 'artistID']).drop(['crossWeight'], axis=1)"
   ]
  },
  {
   "cell_type": "code",
   "execution_count": 431,
   "metadata": {},
   "outputs": [],
   "source": [
    "df = pd.merge(df, artist_profile, how='left', on=None, left_on='artistID', right_on='id').drop(['id'], axis=1)"
   ]
  },
  {
   "cell_type": "code",
   "execution_count": 432,
   "metadata": {},
   "outputs": [],
   "source": [
    "df = pd.merge(df, user_profile, how='left', on='uid')#.drop(['uid'], axis=1)"
   ]
  },
  {
   "cell_type": "code",
   "execution_count": 435,
   "metadata": {},
   "outputs": [
    {
     "data": {
      "text/plain": [
       "Index(['userID', 'artistID', 'weight', 'uid', 'crossTagCnt', 'aTagCount',\n",
       "       'userCount', 'aWeight_min', 'aWeight_max', 'aWeight_mea', 'aWeight_med',\n",
       "       'aWeight_tot', 'tagedArtCount', 'tagCount', 'weight_min', 'weight_max',\n",
       "       'weight_mean', 'weight_med', 'weight_tot', 'friend_cnt'],\n",
       "      dtype='object')"
      ]
     },
     "execution_count": 435,
     "metadata": {},
     "output_type": "execute_result"
    }
   ],
   "source": [
    "df.columns"
   ]
  },
  {
   "cell_type": "code",
   "execution_count": 443,
   "metadata": {},
   "outputs": [],
   "source": [
    "df = pd.merge(df, friend_avg, how='left', on='uid').drop(['uid'], axis=1)"
   ]
  },
  {
   "cell_type": "code",
   "execution_count": 459,
   "metadata": {},
   "outputs": [
    {
     "data": {
      "text/html": [
       "<div>\n",
       "<style scoped>\n",
       "    .dataframe tbody tr th:only-of-type {\n",
       "        vertical-align: middle;\n",
       "    }\n",
       "\n",
       "    .dataframe tbody tr th {\n",
       "        vertical-align: top;\n",
       "    }\n",
       "\n",
       "    .dataframe thead th {\n",
       "        text-align: right;\n",
       "    }\n",
       "</style>\n",
       "<table border=\"1\" class=\"dataframe\">\n",
       "  <thead>\n",
       "    <tr style=\"text-align: right;\">\n",
       "      <th></th>\n",
       "      <th>userID</th>\n",
       "      <th>artistID</th>\n",
       "      <th>weight</th>\n",
       "      <th>crossTagCnt</th>\n",
       "      <th>aTagCount</th>\n",
       "      <th>userCount</th>\n",
       "      <th>aWeight_min</th>\n",
       "      <th>aWeight_max</th>\n",
       "      <th>aWeight_mea</th>\n",
       "      <th>aWeight_med</th>\n",
       "      <th>...</th>\n",
       "      <th>tagCount</th>\n",
       "      <th>weight_min</th>\n",
       "      <th>weight_max</th>\n",
       "      <th>weight_mean</th>\n",
       "      <th>weight_med</th>\n",
       "      <th>weight_tot</th>\n",
       "      <th>friend_cnt</th>\n",
       "      <th>fTagArtCntAvg</th>\n",
       "      <th>fTagCntAvg</th>\n",
       "      <th>fWeightTotAvg</th>\n",
       "    </tr>\n",
       "  </thead>\n",
       "  <tbody>\n",
       "    <tr>\n",
       "      <td>0</td>\n",
       "      <td>2</td>\n",
       "      <td>51</td>\n",
       "      <td>0.039360</td>\n",
       "      <td>0.0</td>\n",
       "      <td>0.562310</td>\n",
       "      <td>0.422330</td>\n",
       "      <td>0.000028</td>\n",
       "      <td>0.292460</td>\n",
       "      <td>0.088991</td>\n",
       "      <td>0.009399</td>\n",
       "      <td>...</td>\n",
       "      <td>0.510204</td>\n",
       "      <td>0.038279</td>\n",
       "      <td>0.03936</td>\n",
       "      <td>0.098282</td>\n",
       "      <td>0.069581</td>\n",
       "      <td>0.351503</td>\n",
       "      <td>0.101695</td>\n",
       "      <td>0.133261</td>\n",
       "      <td>0.711146</td>\n",
       "      <td>0.191289</td>\n",
       "    </tr>\n",
       "    <tr>\n",
       "      <td>1</td>\n",
       "      <td>2</td>\n",
       "      <td>52</td>\n",
       "      <td>0.033142</td>\n",
       "      <td>0.1</td>\n",
       "      <td>0.082067</td>\n",
       "      <td>0.140777</td>\n",
       "      <td>0.000170</td>\n",
       "      <td>0.033145</td>\n",
       "      <td>0.023124</td>\n",
       "      <td>0.003539</td>\n",
       "      <td>...</td>\n",
       "      <td>0.510204</td>\n",
       "      <td>0.038279</td>\n",
       "      <td>0.03936</td>\n",
       "      <td>0.098282</td>\n",
       "      <td>0.069581</td>\n",
       "      <td>0.351503</td>\n",
       "      <td>0.101695</td>\n",
       "      <td>0.133261</td>\n",
       "      <td>0.711146</td>\n",
       "      <td>0.191289</td>\n",
       "    </tr>\n",
       "    <tr>\n",
       "      <td>2</td>\n",
       "      <td>2</td>\n",
       "      <td>53</td>\n",
       "      <td>0.032181</td>\n",
       "      <td>0.0</td>\n",
       "      <td>0.212766</td>\n",
       "      <td>0.291262</td>\n",
       "      <td>0.000085</td>\n",
       "      <td>0.032183</td>\n",
       "      <td>0.016695</td>\n",
       "      <td>0.008068</td>\n",
       "      <td>...</td>\n",
       "      <td>0.510204</td>\n",
       "      <td>0.038279</td>\n",
       "      <td>0.03936</td>\n",
       "      <td>0.098282</td>\n",
       "      <td>0.069581</td>\n",
       "      <td>0.351503</td>\n",
       "      <td>0.101695</td>\n",
       "      <td>0.133261</td>\n",
       "      <td>0.711146</td>\n",
       "      <td>0.191289</td>\n",
       "    </tr>\n",
       "    <tr>\n",
       "      <td>3</td>\n",
       "      <td>2</td>\n",
       "      <td>54</td>\n",
       "      <td>0.029201</td>\n",
       "      <td>0.0</td>\n",
       "      <td>0.106383</td>\n",
       "      <td>0.140777</td>\n",
       "      <td>0.000057</td>\n",
       "      <td>0.029203</td>\n",
       "      <td>0.025050</td>\n",
       "      <td>0.003652</td>\n",
       "      <td>...</td>\n",
       "      <td>0.510204</td>\n",
       "      <td>0.038279</td>\n",
       "      <td>0.03936</td>\n",
       "      <td>0.098282</td>\n",
       "      <td>0.069581</td>\n",
       "      <td>0.351503</td>\n",
       "      <td>0.101695</td>\n",
       "      <td>0.133261</td>\n",
       "      <td>0.711146</td>\n",
       "      <td>0.191289</td>\n",
       "    </tr>\n",
       "    <tr>\n",
       "      <td>4</td>\n",
       "      <td>2</td>\n",
       "      <td>55</td>\n",
       "      <td>0.025467</td>\n",
       "      <td>0.0</td>\n",
       "      <td>0.525836</td>\n",
       "      <td>0.500000</td>\n",
       "      <td>0.000028</td>\n",
       "      <td>0.095064</td>\n",
       "      <td>0.042683</td>\n",
       "      <td>0.013971</td>\n",
       "      <td>...</td>\n",
       "      <td>0.510204</td>\n",
       "      <td>0.038279</td>\n",
       "      <td>0.03936</td>\n",
       "      <td>0.098282</td>\n",
       "      <td>0.069581</td>\n",
       "      <td>0.351503</td>\n",
       "      <td>0.101695</td>\n",
       "      <td>0.133261</td>\n",
       "      <td>0.711146</td>\n",
       "      <td>0.191289</td>\n",
       "    </tr>\n",
       "  </tbody>\n",
       "</table>\n",
       "<p>5 rows × 22 columns</p>\n",
       "</div>"
      ],
      "text/plain": [
       "   userID  artistID    weight  crossTagCnt  aTagCount  userCount  aWeight_min  \\\n",
       "0       2        51  0.039360          0.0   0.562310   0.422330     0.000028   \n",
       "1       2        52  0.033142          0.1   0.082067   0.140777     0.000170   \n",
       "2       2        53  0.032181          0.0   0.212766   0.291262     0.000085   \n",
       "3       2        54  0.029201          0.0   0.106383   0.140777     0.000057   \n",
       "4       2        55  0.025467          0.0   0.525836   0.500000     0.000028   \n",
       "\n",
       "   aWeight_max  aWeight_mea  aWeight_med  ...  tagCount  weight_min  \\\n",
       "0     0.292460     0.088991     0.009399  ...  0.510204    0.038279   \n",
       "1     0.033145     0.023124     0.003539  ...  0.510204    0.038279   \n",
       "2     0.032183     0.016695     0.008068  ...  0.510204    0.038279   \n",
       "3     0.029203     0.025050     0.003652  ...  0.510204    0.038279   \n",
       "4     0.095064     0.042683     0.013971  ...  0.510204    0.038279   \n",
       "\n",
       "   weight_max  weight_mean  weight_med  weight_tot  friend_cnt  fTagArtCntAvg  \\\n",
       "0     0.03936     0.098282    0.069581    0.351503    0.101695       0.133261   \n",
       "1     0.03936     0.098282    0.069581    0.351503    0.101695       0.133261   \n",
       "2     0.03936     0.098282    0.069581    0.351503    0.101695       0.133261   \n",
       "3     0.03936     0.098282    0.069581    0.351503    0.101695       0.133261   \n",
       "4     0.03936     0.098282    0.069581    0.351503    0.101695       0.133261   \n",
       "\n",
       "   fTagCntAvg  fWeightTotAvg  \n",
       "0    0.711146       0.191289  \n",
       "1    0.711146       0.191289  \n",
       "2    0.711146       0.191289  \n",
       "3    0.711146       0.191289  \n",
       "4    0.711146       0.191289  \n",
       "\n",
       "[5 rows x 22 columns]"
      ]
     },
     "execution_count": 459,
     "metadata": {},
     "output_type": "execute_result"
    }
   ],
   "source": [
    "df.head()"
   ]
  },
  {
   "cell_type": "code",
   "execution_count": 460,
   "metadata": {},
   "outputs": [
    {
     "data": {
      "text/plain": [
       "Index(['userID', 'artistID', 'weight', 'crossTagCnt', 'aTagCount', 'userCount',\n",
       "       'aWeight_min', 'aWeight_max', 'aWeight_mea', 'aWeight_med',\n",
       "       'aWeight_tot', 'tagedArtCount', 'tagCount', 'weight_min', 'weight_max',\n",
       "       'weight_mean', 'weight_med', 'weight_tot', 'friend_cnt',\n",
       "       'fTagArtCntAvg', 'fTagCntAvg', 'fWeightTotAvg'],\n",
       "      dtype='object')"
      ]
     },
     "execution_count": 460,
     "metadata": {},
     "output_type": "execute_result"
    }
   ],
   "source": [
    "df.columns"
   ]
  },
  {
   "cell_type": "code",
   "execution_count": 461,
   "metadata": {},
   "outputs": [],
   "source": [
    "features = ['crossTagCnt', 'aTagCount', 'userCount',\n",
    "       'aWeight_min', 'aWeight_max', 'aWeight_mea', 'aWeight_med',\n",
    "       'aWeight_tot', 'tagedArtCount', 'tagCount', 'weight_min', 'weight_max',\n",
    "       'weight_mean', 'weight_med', 'weight_tot', 'friend_cnt',\n",
    "       'fTagArtCntAvg', 'fTagCntAvg', 'fWeightTotAvg']"
   ]
  },
  {
   "cell_type": "code",
   "execution_count": 449,
   "metadata": {},
   "outputs": [],
   "source": [
    "df[features] = df[features].astype(np.float)"
   ]
  },
  {
   "cell_type": "code",
   "execution_count": 470,
   "metadata": {},
   "outputs": [],
   "source": [
    "from tensorflow import keras\n",
    "from tensorflow.keras.models import Sequential\n",
    "from tensorflow.keras import layers\n",
    "from tensorflow.keras.optimizers import RMSprop\n",
    "from tensorflow.keras.models import load_model\n",
    "\n",
    "class DNN:\n",
    "        \n",
    "    # define of DNN model with keras\n",
    "    def __init__(self, n):\n",
    "        # three layers of neural networks\n",
    "        self.model = Sequential()\n",
    "        self.model.add(layers.Dense(32, input_dim=n, activation='relu'))\n",
    "        self.model.add(layers.Dense(8, activation='relu'))\n",
    "        self.model.add(layers.Dense(1))\n",
    "        self.model.compile(optimizer=RMSprop(), loss='mse')\n",
    "        \n",
    "    def fit(self, x_train, y_train):\n",
    "        self.model.fit(x_train, y_train, epochs=20, batch_size=32)\n",
    "        \n",
    "    def predict(self, x):\n",
    "        return self.model.predict(np.mat(x))\n",
    "        \n",
    "    def savemodel(self, path='my_model.h5'):\n",
    "        self.model.save(path)"
   ]
  },
  {
   "cell_type": "code",
   "execution_count": 471,
   "metadata": {},
   "outputs": [],
   "source": [
    "dnn = DNN(19)"
   ]
  },
  {
   "cell_type": "code",
   "execution_count": 472,
   "metadata": {},
   "outputs": [
    {
     "name": "stdout",
     "output_type": "stream",
     "text": [
      "Train on 92834 samples\n",
      "Epoch 1/20\n",
      "92834/92834 [==============================] - 4s 47us/sample - loss: 1.3047e-04\n",
      "Epoch 2/20\n",
      "92834/92834 [==============================] - 3s 37us/sample - loss: 9.9997e-05\n",
      "Epoch 3/20\n",
      "92834/92834 [==============================] - 3s 38us/sample - loss: 9.8577e-05\n",
      "Epoch 4/20\n",
      "92834/92834 [==============================] - 4s 38us/sample - loss: 9.6859e-05\n",
      "Epoch 5/20\n",
      "92834/92834 [==============================] - 4s 39us/sample - loss: 9.5778e-05\n",
      "Epoch 6/20\n",
      "92834/92834 [==============================] - 4s 38us/sample - loss: 9.4025e-05\n",
      "Epoch 7/20\n",
      "92834/92834 [==============================] - 4s 47us/sample - loss: 9.2533e-05\n",
      "Epoch 8/20\n",
      "92834/92834 [==============================] - 5s 49us/sample - loss: 9.2894e-050s - los\n",
      "Epoch 9/20\n",
      "92834/92834 [==============================] - 4s 44us/sample - loss: 9.1436e-05\n",
      "Epoch 10/20\n",
      "92834/92834 [==============================] - 4s 41us/sample - loss: 9.0278e-05\n",
      "Epoch 11/20\n",
      "92834/92834 [==============================] - 4s 39us/sample - loss: 8.9099e-05\n",
      "Epoch 12/20\n",
      "92834/92834 [==============================] - 4s 38us/sample - loss: 8.9693e-05\n",
      "Epoch 13/20\n",
      "92834/92834 [==============================] - 4s 40us/sample - loss: 8.9403e-05\n",
      "Epoch 14/20\n",
      "92834/92834 [==============================] - 4s 40us/sample - loss: 8.8772e-05\n",
      "Epoch 15/20\n",
      "92834/92834 [==============================] - 3s 37us/sample - loss: 8.9439e-05\n",
      "Epoch 16/20\n",
      "92834/92834 [==============================] - 4s 41us/sample - loss: 8.9110e-05\n",
      "Epoch 17/20\n",
      "92834/92834 [==============================] - 4s 38us/sample - loss: 8.8205e-05\n",
      "Epoch 18/20\n",
      "92834/92834 [==============================] - 4s 44us/sample - loss: 8.8011e-05\n",
      "Epoch 19/20\n",
      "92834/92834 [==============================] - 4s 41us/sample - loss: 8.8304e-05\n",
      "Epoch 20/20\n",
      "92834/92834 [==============================] - 4s 39us/sample - loss: 8.8000e-05\n"
     ]
    }
   ],
   "source": [
    "# fit the model\n",
    "dnn.fit(df[features], df[['weight']])"
   ]
  },
  {
   "cell_type": "markdown",
   "metadata": {},
   "source": [
    "### Recall and rank"
   ]
  },
  {
   "cell_type": "code",
   "execution_count": 500,
   "metadata": {},
   "outputs": [],
   "source": [
    "# recall all the artists, use the model to score all the recalls\n",
    "def generate_recall(uid):\n",
    "    query = artist_profile    \n",
    "    query['uid'] = uid\n",
    "    query = pd.merge(query, cross_avg, how='left', left_on=['uid', 'id'], right_on=['uid', 'artistID']).drop(['artistID'], axis=1).fillna(0)    \n",
    "    query = pd.merge(query, user_profile, how='left', on='uid').fillna(0)    \n",
    "    query = pd.merge(query, friend_avg, how='left', on='uid').fillna(0)    \n",
    "    query['score'] = dnn.predict(query[features])\n",
    "    return query[['uid', 'id', 'score']]"
   ]
  },
  {
   "cell_type": "code",
   "execution_count": 501,
   "metadata": {},
   "outputs": [],
   "source": [
    "query = generate_query(2)"
   ]
  },
  {
   "cell_type": "code",
   "execution_count": 518,
   "metadata": {},
   "outputs": [],
   "source": [
    "# rank by the score and select top 10\n",
    "def recommend(uid):\n",
    "    recall = generate_recall(uid)\n",
    "    recall['rank'] = recall['score'].rank(ascending=False, method='max')\n",
    "    return recall[recall['rank'] <= 10]"
   ]
  },
  {
   "cell_type": "code",
   "execution_count": 511,
   "metadata": {},
   "outputs": [],
   "source": [
    "query['rank'] = query['score'].rank(ascending=False, method='max')"
   ]
  },
  {
   "cell_type": "code",
   "execution_count": 513,
   "metadata": {},
   "outputs": [
    {
     "data": {
      "text/html": [
       "<div>\n",
       "<style scoped>\n",
       "    .dataframe tbody tr th:only-of-type {\n",
       "        vertical-align: middle;\n",
       "    }\n",
       "\n",
       "    .dataframe tbody tr th {\n",
       "        vertical-align: top;\n",
       "    }\n",
       "\n",
       "    .dataframe thead th {\n",
       "        text-align: right;\n",
       "    }\n",
       "</style>\n",
       "<table border=\"1\" class=\"dataframe\">\n",
       "  <thead>\n",
       "    <tr style=\"text-align: right;\">\n",
       "      <th></th>\n",
       "      <th>uid</th>\n",
       "      <th>id</th>\n",
       "      <th>score</th>\n",
       "      <th>rank</th>\n",
       "    </tr>\n",
       "  </thead>\n",
       "  <tbody>\n",
       "    <tr>\n",
       "      <td>66</td>\n",
       "      <td>2</td>\n",
       "      <td>72</td>\n",
       "      <td>0.032219</td>\n",
       "      <td>6.0</td>\n",
       "    </tr>\n",
       "    <tr>\n",
       "      <td>83</td>\n",
       "      <td>2</td>\n",
       "      <td>89</td>\n",
       "      <td>0.027399</td>\n",
       "      <td>9.0</td>\n",
       "    </tr>\n",
       "    <tr>\n",
       "      <td>283</td>\n",
       "      <td>2</td>\n",
       "      <td>289</td>\n",
       "      <td>0.032531</td>\n",
       "      <td>5.0</td>\n",
       "    </tr>\n",
       "    <tr>\n",
       "      <td>286</td>\n",
       "      <td>2</td>\n",
       "      <td>292</td>\n",
       "      <td>0.029212</td>\n",
       "      <td>7.0</td>\n",
       "    </tr>\n",
       "    <tr>\n",
       "      <td>783</td>\n",
       "      <td>2</td>\n",
       "      <td>792</td>\n",
       "      <td>0.034680</td>\n",
       "      <td>4.0</td>\n",
       "    </tr>\n",
       "    <tr>\n",
       "      <td>2029</td>\n",
       "      <td>2</td>\n",
       "      <td>2044</td>\n",
       "      <td>0.026675</td>\n",
       "      <td>10.0</td>\n",
       "    </tr>\n",
       "    <tr>\n",
       "      <td>6241</td>\n",
       "      <td>2</td>\n",
       "      <td>6373</td>\n",
       "      <td>0.054361</td>\n",
       "      <td>2.0</td>\n",
       "    </tr>\n",
       "    <tr>\n",
       "      <td>8115</td>\n",
       "      <td>2</td>\n",
       "      <td>8308</td>\n",
       "      <td>0.038575</td>\n",
       "      <td>3.0</td>\n",
       "    </tr>\n",
       "    <tr>\n",
       "      <td>8195</td>\n",
       "      <td>2</td>\n",
       "      <td>8388</td>\n",
       "      <td>0.059299</td>\n",
       "      <td>1.0</td>\n",
       "    </tr>\n",
       "    <tr>\n",
       "      <td>14282</td>\n",
       "      <td>2</td>\n",
       "      <td>14986</td>\n",
       "      <td>0.028017</td>\n",
       "      <td>8.0</td>\n",
       "    </tr>\n",
       "  </tbody>\n",
       "</table>\n",
       "</div>"
      ],
      "text/plain": [
       "       uid     id     score  rank\n",
       "66       2     72  0.032219   6.0\n",
       "83       2     89  0.027399   9.0\n",
       "283      2    289  0.032531   5.0\n",
       "286      2    292  0.029212   7.0\n",
       "783      2    792  0.034680   4.0\n",
       "2029     2   2044  0.026675  10.0\n",
       "6241     2   6373  0.054361   2.0\n",
       "8115     2   8308  0.038575   3.0\n",
       "8195     2   8388  0.059299   1.0\n",
       "14282    2  14986  0.028017   8.0"
      ]
     },
     "execution_count": 513,
     "metadata": {},
     "output_type": "execute_result"
    }
   ],
   "source": [
    "query[query['rank'] <= 10]"
   ]
  },
  {
   "cell_type": "code",
   "execution_count": 519,
   "metadata": {},
   "outputs": [
    {
     "data": {
      "text/html": [
       "<div>\n",
       "<style scoped>\n",
       "    .dataframe tbody tr th:only-of-type {\n",
       "        vertical-align: middle;\n",
       "    }\n",
       "\n",
       "    .dataframe tbody tr th {\n",
       "        vertical-align: top;\n",
       "    }\n",
       "\n",
       "    .dataframe thead th {\n",
       "        text-align: right;\n",
       "    }\n",
       "</style>\n",
       "<table border=\"1\" class=\"dataframe\">\n",
       "  <thead>\n",
       "    <tr style=\"text-align: right;\">\n",
       "      <th></th>\n",
       "      <th>uid</th>\n",
       "      <th>id</th>\n",
       "      <th>score</th>\n",
       "      <th>rank</th>\n",
       "    </tr>\n",
       "  </thead>\n",
       "  <tbody>\n",
       "    <tr>\n",
       "      <td>66</td>\n",
       "      <td>2</td>\n",
       "      <td>72</td>\n",
       "      <td>0.032219</td>\n",
       "      <td>6.0</td>\n",
       "    </tr>\n",
       "    <tr>\n",
       "      <td>83</td>\n",
       "      <td>2</td>\n",
       "      <td>89</td>\n",
       "      <td>0.027399</td>\n",
       "      <td>9.0</td>\n",
       "    </tr>\n",
       "    <tr>\n",
       "      <td>283</td>\n",
       "      <td>2</td>\n",
       "      <td>289</td>\n",
       "      <td>0.032531</td>\n",
       "      <td>5.0</td>\n",
       "    </tr>\n",
       "    <tr>\n",
       "      <td>286</td>\n",
       "      <td>2</td>\n",
       "      <td>292</td>\n",
       "      <td>0.029212</td>\n",
       "      <td>7.0</td>\n",
       "    </tr>\n",
       "    <tr>\n",
       "      <td>783</td>\n",
       "      <td>2</td>\n",
       "      <td>792</td>\n",
       "      <td>0.034680</td>\n",
       "      <td>4.0</td>\n",
       "    </tr>\n",
       "    <tr>\n",
       "      <td>2029</td>\n",
       "      <td>2</td>\n",
       "      <td>2044</td>\n",
       "      <td>0.026675</td>\n",
       "      <td>10.0</td>\n",
       "    </tr>\n",
       "    <tr>\n",
       "      <td>6241</td>\n",
       "      <td>2</td>\n",
       "      <td>6373</td>\n",
       "      <td>0.054361</td>\n",
       "      <td>2.0</td>\n",
       "    </tr>\n",
       "    <tr>\n",
       "      <td>8115</td>\n",
       "      <td>2</td>\n",
       "      <td>8308</td>\n",
       "      <td>0.038575</td>\n",
       "      <td>3.0</td>\n",
       "    </tr>\n",
       "    <tr>\n",
       "      <td>8195</td>\n",
       "      <td>2</td>\n",
       "      <td>8388</td>\n",
       "      <td>0.059299</td>\n",
       "      <td>1.0</td>\n",
       "    </tr>\n",
       "    <tr>\n",
       "      <td>14282</td>\n",
       "      <td>2</td>\n",
       "      <td>14986</td>\n",
       "      <td>0.028017</td>\n",
       "      <td>8.0</td>\n",
       "    </tr>\n",
       "  </tbody>\n",
       "</table>\n",
       "</div>"
      ],
      "text/plain": [
       "       uid     id     score  rank\n",
       "66       2     72  0.032219   6.0\n",
       "83       2     89  0.027399   9.0\n",
       "283      2    289  0.032531   5.0\n",
       "286      2    292  0.029212   7.0\n",
       "783      2    792  0.034680   4.0\n",
       "2029     2   2044  0.026675  10.0\n",
       "6241     2   6373  0.054361   2.0\n",
       "8115     2   8308  0.038575   3.0\n",
       "8195     2   8388  0.059299   1.0\n",
       "14282    2  14986  0.028017   8.0"
      ]
     },
     "execution_count": 519,
     "metadata": {},
     "output_type": "execute_result"
    }
   ],
   "source": [
    "recommend(2)"
   ]
  },
  {
   "cell_type": "markdown",
   "metadata": {},
   "source": [
    "### Collaborative Filtering"
   ]
  },
  {
   "cell_type": "code",
   "execution_count": 547,
   "metadata": {},
   "outputs": [],
   "source": [
    "# CF model only use userID, artistID and weight\n",
    "uat = user_tag_pd.groupby(['userID', 'artistID']).tagID.nunique()\n",
    "uat = uat.reset_index()\n",
    "uat.columns = ['uid', 'artistID', 'tagCnt']"
   ]
  },
  {
   "cell_type": "code",
   "execution_count": 549,
   "metadata": {},
   "outputs": [
    {
     "data": {
      "text/html": [
       "<div>\n",
       "<style scoped>\n",
       "    .dataframe tbody tr th:only-of-type {\n",
       "        vertical-align: middle;\n",
       "    }\n",
       "\n",
       "    .dataframe tbody tr th {\n",
       "        vertical-align: top;\n",
       "    }\n",
       "\n",
       "    .dataframe thead th {\n",
       "        text-align: right;\n",
       "    }\n",
       "</style>\n",
       "<table border=\"1\" class=\"dataframe\">\n",
       "  <thead>\n",
       "    <tr style=\"text-align: right;\">\n",
       "      <th></th>\n",
       "      <th>uid</th>\n",
       "      <th>artistID</th>\n",
       "      <th>crossWeight</th>\n",
       "      <th>crossTagCnt</th>\n",
       "    </tr>\n",
       "  </thead>\n",
       "  <tbody>\n",
       "    <tr>\n",
       "      <td>0</td>\n",
       "      <td>2</td>\n",
       "      <td>51</td>\n",
       "      <td>0.039360</td>\n",
       "      <td>0.0</td>\n",
       "    </tr>\n",
       "    <tr>\n",
       "      <td>1</td>\n",
       "      <td>2</td>\n",
       "      <td>52</td>\n",
       "      <td>0.033142</td>\n",
       "      <td>5.0</td>\n",
       "    </tr>\n",
       "    <tr>\n",
       "      <td>2</td>\n",
       "      <td>2</td>\n",
       "      <td>53</td>\n",
       "      <td>0.032181</td>\n",
       "      <td>0.0</td>\n",
       "    </tr>\n",
       "    <tr>\n",
       "      <td>3</td>\n",
       "      <td>2</td>\n",
       "      <td>54</td>\n",
       "      <td>0.029201</td>\n",
       "      <td>0.0</td>\n",
       "    </tr>\n",
       "    <tr>\n",
       "      <td>4</td>\n",
       "      <td>2</td>\n",
       "      <td>55</td>\n",
       "      <td>0.025467</td>\n",
       "      <td>0.0</td>\n",
       "    </tr>\n",
       "    <tr>\n",
       "      <td>...</td>\n",
       "      <td>...</td>\n",
       "      <td>...</td>\n",
       "      <td>...</td>\n",
       "      <td>...</td>\n",
       "    </tr>\n",
       "    <tr>\n",
       "      <td>92829</td>\n",
       "      <td>2100</td>\n",
       "      <td>18726</td>\n",
       "      <td>0.000953</td>\n",
       "      <td>0.0</td>\n",
       "    </tr>\n",
       "    <tr>\n",
       "      <td>92830</td>\n",
       "      <td>2100</td>\n",
       "      <td>18727</td>\n",
       "      <td>0.000839</td>\n",
       "      <td>0.0</td>\n",
       "    </tr>\n",
       "    <tr>\n",
       "      <td>92831</td>\n",
       "      <td>2100</td>\n",
       "      <td>18728</td>\n",
       "      <td>0.000794</td>\n",
       "      <td>0.0</td>\n",
       "    </tr>\n",
       "    <tr>\n",
       "      <td>92832</td>\n",
       "      <td>2100</td>\n",
       "      <td>18729</td>\n",
       "      <td>0.000791</td>\n",
       "      <td>0.0</td>\n",
       "    </tr>\n",
       "    <tr>\n",
       "      <td>92833</td>\n",
       "      <td>2100</td>\n",
       "      <td>18730</td>\n",
       "      <td>0.000743</td>\n",
       "      <td>0.0</td>\n",
       "    </tr>\n",
       "  </tbody>\n",
       "</table>\n",
       "<p>92834 rows × 4 columns</p>\n",
       "</div>"
      ],
      "text/plain": [
       "        uid  artistID  crossWeight  crossTagCnt\n",
       "0         2        51     0.039360          0.0\n",
       "1         2        52     0.033142          5.0\n",
       "2         2        53     0.032181          0.0\n",
       "3         2        54     0.029201          0.0\n",
       "4         2        55     0.025467          0.0\n",
       "...     ...       ...          ...          ...\n",
       "92829  2100     18726     0.000953          0.0\n",
       "92830  2100     18727     0.000839          0.0\n",
       "92831  2100     18728     0.000794          0.0\n",
       "92832  2100     18729     0.000791          0.0\n",
       "92833  2100     18730     0.000743          0.0\n",
       "\n",
       "[92834 rows x 4 columns]"
      ]
     },
     "execution_count": 549,
     "metadata": {},
     "output_type": "execute_result"
    }
   ],
   "source": [
    "cross_avg"
   ]
  },
  {
   "cell_type": "code",
   "execution_count": 604,
   "metadata": {},
   "outputs": [],
   "source": [
    "# use library surprise to solve it\n",
    "from surprise import SVD\n",
    "from surprise import Dataset, Reader\n",
    "from surprise import KNNBasic\n",
    "from surprise.model_selection import cross_validate, train_test_split"
   ]
  },
  {
   "cell_type": "code",
   "execution_count": 585,
   "metadata": {},
   "outputs": [],
   "source": [
    "# build suprise's dataframe\n",
    "reader = Reader(rating_scale=(0, 1), line_format='user item rating timestamp')\n",
    "data = Dataset.load_from_df(cross_avg[['uid', 'artistID', 'crossWeight']], reader)"
   ]
  },
  {
   "cell_type": "code",
   "execution_count": 588,
   "metadata": {},
   "outputs": [
    {
     "data": {
      "text/plain": [
       "<surprise.prediction_algorithms.matrix_factorization.SVD at 0x1c529bb810>"
      ]
     },
     "execution_count": 588,
     "metadata": {},
     "output_type": "execute_result"
    }
   ],
   "source": [
    "# split data and train the model\n",
    "trainset, testset = train_test_split(data, test_size=0.05) \n",
    "model = SVD(n_factors=30)\n",
    "model.fit(trainset)"
   ]
  },
  {
   "cell_type": "code",
   "execution_count": 599,
   "metadata": {},
   "outputs": [
    {
     "data": {
      "text/plain": [
       "Prediction(uid=2, iid=14, r_ui=None, est=0.006759658077754768, details={'was_impossible': False})"
      ]
     },
     "execution_count": 599,
     "metadata": {},
     "output_type": "execute_result"
    }
   ],
   "source": [
    "model.predict(2,14)"
   ]
  },
  {
   "cell_type": "code",
   "execution_count": 617,
   "metadata": {},
   "outputs": [
    {
     "name": "stdout",
     "output_type": "stream",
     "text": [
      "Computing the msd similarity matrix...\n",
      "Done computing similarity matrix.\n"
     ]
    }
   ],
   "source": [
    "# use the model KNN to get the nearest neighbours which means the recommend items\n",
    "item_algo = KNNBasic(k=40,min_k=3,sim_options={'user_based': False}) # sim_options={'name': 'cosine','user_based': True} cosine/msd/pearson/pearson_baseline\n",
    "item_algo.fit(trainset)\n",
    "\n",
    "def getSimilarArtist(top_k, artistId):\n",
    "    item_inner_id = item_algo.trainset.to_inner_iid(artistId)\n",
    "    item_neighbors = item_algo.get_neighbors(item_inner_id, k=top_k)\n",
    "    f_item_neighbors = (item_algo.trainset.to_raw_iid(inner_id)\n",
    "                       for inner_id in item_neighbors)\n",
    "    return f_item_neighbors"
   ]
  },
  {
   "cell_type": "code",
   "execution_count": 624,
   "metadata": {},
   "outputs": [],
   "source": [
    "def recommend_cf(artistID):\n",
    "    artists = getSimilarArtist(10, artistID)\n",
    "    ids = []\n",
    "    for i in artists:\n",
    "        ids.append(i)\n",
    "    return ids"
   ]
  },
  {
   "cell_type": "code",
   "execution_count": 625,
   "metadata": {},
   "outputs": [
    {
     "data": {
      "text/plain": [
       "[4999, 2463, 8312, 1807, 5988, 1696, 8313, 10628, 12228, 7577]"
      ]
     },
     "execution_count": 625,
     "metadata": {},
     "output_type": "execute_result"
    }
   ],
   "source": [
    "recommend_cf(51)"
   ]
  },
  {
   "cell_type": "code",
   "execution_count": null,
   "metadata": {},
   "outputs": [],
   "source": []
  }
 ],
 "metadata": {
  "kernelspec": {
   "display_name": "Python 3",
   "language": "python",
   "name": "python3"
  },
  "language_info": {
   "codemirror_mode": {
    "name": "ipython",
    "version": 3
   },
   "file_extension": ".py",
   "mimetype": "text/x-python",
   "name": "python",
   "nbconvert_exporter": "python",
   "pygments_lexer": "ipython3",
   "version": "3.7.4"
  }
 },
 "nbformat": 4,
 "nbformat_minor": 2
}
